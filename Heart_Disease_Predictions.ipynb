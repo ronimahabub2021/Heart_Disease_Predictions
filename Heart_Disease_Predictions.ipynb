{
  "nbformat": 4,
  "nbformat_minor": 0,
  "metadata": {
    "colab": {
      "private_outputs": true,
      "provenance": []
    },
    "kernelspec": {
      "name": "python3",
      "display_name": "Python 3"
    },
    "language_info": {
      "name": "python"
    }
  },
  "cells": [
    {
      "cell_type": "markdown",
      "source": [
        "👉 ইউজার Google Colab এ কাজ করছে, তাই files.upload() দিয়ে লোকাল থেকে CSV ফাইল আপলোড করছে।"
      ],
      "metadata": {
        "id": "S1hRmAqJPMca"
      }
    },
    {
      "cell_type": "code",
      "execution_count": null,
      "metadata": {
        "id": "LER4IN9KPBR1"
      },
      "outputs": [],
      "source": [
        "from google.colab import files\n",
        "files.upload()"
      ]
    },
    {
      "cell_type": "code",
      "source": [
        "#👉 ডেটা প্রসেসিং ও ভিজ্যুয়ালাইজেশনের জন্য লাইব্রেরি ইমপোর্ট।\n",
        "import pandas as pd\n",
        "import numpy as np\n",
        "import matplotlib.pyplot as plt\n",
        "import seaborn as sns\n",
        "#👉 মডেল ট্রেইনিং, স্কেলিং, ইভালুয়েশন ও মডেল সেভ করার জন্য লাইব্রেরি।\n",
        "from sklearn.model_selection import train_test_split\n",
        "from sklearn.preprocessing import StandardScaler\n",
        "from sklearn.linear_model import LogisticRegression\n",
        "from sklearn.metrics import classification_report\n",
        "import joblib"
      ],
      "metadata": {
        "id": "STnuzuORPQrb"
      },
      "execution_count": null,
      "outputs": []
    },
    {
      "cell_type": "code",
      "source": [
        "#👉 ফাইল লোড করে DataFrame-এ রাখা হয়েছে।\n",
        "df=pd.read_csv('heart (1).csv')"
      ],
      "metadata": {
        "id": "5DtLcFnrPqyZ"
      },
      "execution_count": null,
      "outputs": []
    },
    {
      "cell_type": "code",
      "source": [
        "#👉 মূল ডেটার একটি কপি তৈরি করা হয়েছে, ভবিষ্যতে দরকার হলে মূল ডেটা থেকে রেফারেন্স নেওয়ার জন্য।\n",
        "df1 = df.copy()"
      ],
      "metadata": {
        "id": "NVtQdqi1P2Cq"
      },
      "execution_count": null,
      "outputs": []
    },
    {
      "cell_type": "code",
      "source": [
        "#👉 তথ্য দেখা, কোন null ভ্যালু আছে কিনা দেখা ও ডুপ্লিকেট ডাটা রিমুভ করা হয়েছে।\n",
        "df.info()\n",
        "df.describe()\n",
        "df.isnull().sum()\n",
        "df.drop_duplicates(inplace=True)"
      ],
      "metadata": {
        "id": "0N6FuWfDQHDa"
      },
      "execution_count": null,
      "outputs": []
    },
    {
      "cell_type": "code",
      "source": [
        "#ফিচার ও টার্গেট আলাদা করা\n",
        "X = df.drop('target', axis=1)\n",
        "y = df['target']"
      ],
      "metadata": {
        "id": "AhUmeCxRQY_9"
      },
      "execution_count": null,
      "outputs": []
    },
    {
      "cell_type": "code",
      "source": [
        "#👉 ডেটাসেট ৮০% ট্রেইনিং ও ২০% টেস্টিং এ ভাগ করা হয়েছে।\n",
        "X_train, X_test, y_train, y_test = train_test_split(X, y, test_size=0.2, random_state=42)"
      ],
      "metadata": {
        "id": "jjPVXgfJQmom"
      },
      "execution_count": null,
      "outputs": []
    },
    {
      "cell_type": "code",
      "source": [
        "#ফিচার স্কেলিং\n",
        "scalar = StandardScaler()\n",
        "X_train = scalar.fit_transform(X_train)\n",
        "X_test = scalar.transform(X_test)"
      ],
      "metadata": {
        "id": "tI9Ce7M7Qtbo"
      },
      "execution_count": null,
      "outputs": []
    },
    {
      "cell_type": "code",
      "source": [
        "# মডেল ট্রেইনিং ও প্রেডিকশন\n",
        "model = LogisticRegression()\n",
        "model.fit(X_train, y_train)\n",
        "y_pred = model.predict(X_test)"
      ],
      "metadata": {
        "id": "rvYuHAzzQ5N2"
      },
      "execution_count": null,
      "outputs": []
    },
    {
      "cell_type": "code",
      "source": [
        "#মডেল ইভালুয়েশন\n",
        "model.score(X_test, y_test)\n",
        "print(classification_report(y_test, y_pred))"
      ],
      "metadata": {
        "id": "WvPY3bF_RAFu"
      },
      "execution_count": null,
      "outputs": []
    },
    {
      "cell_type": "code",
      "source": [
        "#👉 .pkl ফরম্যাটে মডেল সংরক্ষণ করা হয়েছে যাতে ভবিষ্যতে লোড করে আবার ব্যবহার করা যায়।\n",
        "joblib.dump(model, 'heart_model.pkl')"
      ],
      "metadata": {
        "id": "GVR77npURP86"
      },
      "execution_count": null,
      "outputs": []
    },
    {
      "cell_type": "code",
      "source": [],
      "metadata": {
        "id": "P7xd6OIWRdpI"
      },
      "execution_count": null,
      "outputs": []
    }
  ]
}